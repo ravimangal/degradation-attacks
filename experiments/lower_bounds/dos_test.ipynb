{
 "cells": [
  {
   "cell_type": "code",
   "execution_count": 1,
   "id": "searching-harvard",
   "metadata": {},
   "outputs": [],
   "source": [
    "import matplotlib.pyplot as plt\n",
    "import numpy as np\n",
    "import os\n",
    "import sys\n",
    "import tensorflow as tf\n",
    "import tensorflow_datasets as tfds\n",
    "\n",
    "os.environ['TFDS_DIR'] = '/longterm/kleino/tfds/'\n",
    "\n",
    "from tensorflow.data import Dataset\n",
    "from tensorflow.keras.layers import Input, Dense, Conv2D, Flatten, Activation\n",
    "from tensorflow.keras.models import Model\n",
    "\n",
    "import gloro.v1 as gloro\n",
    "\n",
    "from gloro.v1 import GloroNet\n",
    "from gloro.v1.layers import MinMax\n",
    "\n",
    "from dos_attacks import GloroDosAttack, RsDosUnderlying, RsDosAttack\n",
    "\n",
    "from gloro.smoothing.models import SmoothedModel\n",
    "\n",
    "sys.path.append('../nf')\n",
    "sys.path.append('../nf/training')\n",
    "\n",
    "from training.utils import get_data\n",
    "\n",
    "tf.keras.backend.set_image_data_format('channels_last')\n",
    "\n",
    "# Select the GPU and allow memory growth to avoid taking all the RAM.\n",
    "gpu = 2\n",
    "\n",
    "gpus = tf.config.experimental.list_physical_devices('GPU')\n",
    "tf.config.experimental.set_visible_devices(gpus[gpu], 'GPU')\n",
    "\n",
    "for device in tf.config.experimental.get_visible_devices('GPU'):\n",
    "  tf.config.experimental.set_memory_growth(device, True)"
   ]
  },
  {
   "cell_type": "markdown",
   "id": "alpha-domain",
   "metadata": {},
   "source": [
    "# GloRo"
   ]
  },
  {
   "cell_type": "markdown",
   "id": "solved-compensation",
   "metadata": {},
   "source": [
    "## CIFAR-10 $\\epsilon = 0.141$"
   ]
  },
  {
   "cell_type": "code",
   "execution_count": 2,
   "id": "excess-playlist",
   "metadata": {},
   "outputs": [],
   "source": [
    "attack = GloroDosAttack(0.141)"
   ]
  },
  {
   "cell_type": "code",
   "execution_count": 3,
   "id": "thirty-personality",
   "metadata": {},
   "outputs": [],
   "source": [
    "train, test, meta = get_data('cifar10', batch_size=256)"
   ]
  },
  {
   "cell_type": "code",
   "execution_count": 4,
   "id": "changed-canberra",
   "metadata": {},
   "outputs": [
    {
     "name": "stdout",
     "output_type": "stream",
     "text": [
      "WARNING:tensorflow:No training configuration found in the save file, so the model was *not* compiled. Compile it manually.\n"
     ]
    },
    {
     "name": "stderr",
     "output_type": "stream",
     "text": [
      "WARNING:tensorflow:No training configuration found in the save file, so the model was *not* compiled. Compile it manually.\n"
     ]
    }
   ],
   "source": [
    "g = GloroNet.load_model(\n",
    "  '/longterm/kleino/repos/lib-gloro/experiments/nf/training/models/gloro.528cc012921237e6.gloronet')"
   ]
  },
  {
   "cell_type": "code",
   "execution_count": 5,
   "id": "color-visitor",
   "metadata": {},
   "outputs": [
    {
     "name": "stdout",
     "output_type": "stream",
     "text": [
      "attacking at a radius of 2 * epsilon...\n",
      "40/40 [==============================] - 206s 5s/step - success_rate: 0.2665\n",
      "80/80 [==============================] - ETA: 0s - vra: 0.6019 - dos_success: 0.4169 ETA:  - 4s 52ms/step - vra: 0.6019 - dos_success: 0.4189\n",
      "vra_under_dos: 0.534\n",
      "fraction_susceptible: 0.114\n"
     ]
    }
   ],
   "source": [
    "vra_under_dos, fraction_susceptible = attack.eval(g, test)\n",
    "\n",
    "print(\n",
    "  f'vra_under_dos: {vra_under_dos.numpy():.3f}\\n'\n",
    "  f'fraction_susceptible: {fraction_susceptible.numpy():.3f}')"
   ]
  },
  {
   "cell_type": "markdown",
   "id": "vulnerable-newark",
   "metadata": {},
   "source": [
    "## MNIST $\\epsilon = 1.58$"
   ]
  },
  {
   "cell_type": "code",
   "execution_count": 3,
   "id": "abroad-legislation",
   "metadata": {},
   "outputs": [
    {
     "name": "stdout",
     "output_type": "stream",
     "text": [
      "WARNING:tensorflow:No training configuration found in the save file, so the model was *not* compiled. Compile it manually.\n"
     ]
    },
    {
     "name": "stderr",
     "output_type": "stream",
     "text": [
      "WARNING:tensorflow:No training configuration found in the save file, so the model was *not* compiled. Compile it manually.\n"
     ]
    },
    {
     "name": "stdout",
     "output_type": "stream",
     "text": [
      "attacking at a radius of 2 * epsilon...\n",
      "40/40 [==============================] - 285s 7s/step - success_rate: 0.5230\n",
      "80/80 [==============================] - 21s 267ms/step - vra: 0.6060 - dos_success: 0.7361\n",
      "vra_under_dos: 0.266\n",
      "fraction_susceptible: 0.561\n"
     ]
    }
   ],
   "source": [
    "attack = GloroDosAttack(1.58)\n",
    "\n",
    "train, test, meta = get_data('mnist', batch_size=256)\n",
    "\n",
    "g = GloroNet.load_model(\n",
    "  '/longterm/kleino/repos/lib-gloro/experiments/nf/training/models/gloro.077647b1c09ced0d.gloronet')\n",
    "\n",
    "vra_under_dos, fraction_susceptible = attack.eval(g, test)\n",
    "\n",
    "print(\n",
    "  f'vra_under_dos: {vra_under_dos.numpy():.3f}\\n'\n",
    "  f'fraction_susceptible: {fraction_susceptible.numpy():.3f}')"
   ]
  },
  {
   "cell_type": "markdown",
   "id": "apart-yukon",
   "metadata": {},
   "source": [
    "# Randomized Smoothing"
   ]
  },
  {
   "cell_type": "markdown",
   "id": "relevant-weight",
   "metadata": {},
   "source": [
    "## CIFAR-10 $\\epsilon = 1.58$"
   ]
  },
  {
   "cell_type": "code",
   "execution_count": 2,
   "id": "underlying-rouge",
   "metadata": {},
   "outputs": [],
   "source": [
    "f = tf.keras.models.load_model(\n",
    "  '/longterm/kleino/repos/lib-gloro/experiments/rtk/models/smoothed.architecture-cnn_6C2F.batch_size-256'\n",
    "  '.dataset-cifar10.epochs-50.lr_schedule-decay_to_0.00001_after_half.sigma-0.125.h5')"
   ]
  },
  {
   "cell_type": "code",
   "execution_count": 3,
   "id": "promotional-passport",
   "metadata": {},
   "outputs": [],
   "source": [
    "g = SmoothedModel(model=f, sigma=0.125, n=100000)"
   ]
  },
  {
   "cell_type": "code",
   "execution_count": 4,
   "id": "greenhouse-messenger",
   "metadata": {},
   "outputs": [],
   "source": [
    "samples = 100\n",
    "batch_size = 10\n",
    "\n",
    "train, test, meta = get_data('cifar10', batch_size=batch_size)\n",
    "\n",
    "iterator = iter(tfds.as_numpy(test))\n",
    "new_test_x, new_test_y = [], []\n",
    "for _ in range(samples // batch_size):\n",
    "  x, y = next(iterator)\n",
    "  new_test_x.append(x)\n",
    "  new_test_y.append(y)\n",
    "  \n",
    "test = Dataset.from_tensor_slices(\n",
    "  (tf.concat(new_test_x, axis=0), tf.concat(new_test_y, axis=0))).cache().batch(batch_size)"
   ]
  },
  {
   "cell_type": "markdown",
   "id": "another-identity",
   "metadata": {},
   "source": [
    "#### Using underlying model"
   ]
  },
  {
   "cell_type": "code",
   "execution_count": 6,
   "id": "casual-break",
   "metadata": {},
   "outputs": [
    {
     "name": "stdout",
     "output_type": "stream",
     "text": [
      "attacking underlying model at a radius of 2 * epsilon...\n",
      "10/10 [==============================] - 2s 239ms/step - success_rate: 0.4100\n",
      "20/20 [==============================] - 500s 25s/step - vra: 0.6000 - dos_success: 0.3300\n",
      "vra_under_dos: 0.560\n",
      "fraction_susceptible: 0.067\n"
     ]
    }
   ],
   "source": [
    "attack = RsDosUnderlying(0.141)\n",
    "\n",
    "vra_under_dos, fraction_susceptible = attack.eval(g, test)\n",
    "\n",
    "print(\n",
    "  f'vra_under_dos: {vra_under_dos.numpy():.3f}\\n'\n",
    "  f'fraction_susceptible: {fraction_susceptible.numpy():.3f}')"
   ]
  },
  {
   "cell_type": "markdown",
   "id": "published-consciousness",
   "metadata": {},
   "source": [
    "#### Using smoothed PGD"
   ]
  },
  {
   "cell_type": "code",
   "execution_count": 5,
   "id": "fluid-colleague",
   "metadata": {},
   "outputs": [
    {
     "name": "stdout",
     "output_type": "stream",
     "text": [
      "attacking underlying model at a radius of 2 * epsilon...\n",
      "10/10 [==============================] - 24s 2s/step - success_rate: 0.5600\n",
      "20/20 [==============================] - 503s 25s/step - vra: 0.5900 - dos_success: 0.2700\n",
      "vra_under_dos: 0.510\n",
      "fraction_susceptible: 0.136\n"
     ]
    }
   ],
   "source": [
    "attack = RsDosAttack(0.141, aggregate_before_grad=True)\n",
    "\n",
    "vra_under_dos, fraction_susceptible = attack.eval(g, test)\n",
    "\n",
    "print(\n",
    "  f'vra_under_dos: {vra_under_dos.numpy():.3f}\\n'\n",
    "  f'fraction_susceptible: {fraction_susceptible.numpy():.3f}')"
   ]
  },
  {
   "cell_type": "code",
   "execution_count": 10,
   "id": "laden-competition",
   "metadata": {},
   "outputs": [
    {
     "name": "stdout",
     "output_type": "stream",
     "text": [
      "attacking underlying model at a radius of 2 * epsilon...\n",
      "10/10 [==============================] - 234s 23s/step - success_rate: 0.5500\n",
      "20/20 [==============================] - 487s 24s/step - vra: 0.5900 - dos_success: 0.2700\n",
      "vra_under_dos: 0.510\n",
      "fraction_susceptible: 0.136\n"
     ]
    }
   ],
   "source": [
    "attack = RsDosAttack(0.141, samples=1000, aggregate_before_grad=True)\n",
    "\n",
    "vra_under_dos, fraction_susceptible = attack.eval(g, test)\n",
    "\n",
    "print(\n",
    "  f'vra_under_dos: {vra_under_dos.numpy():.3f}\\n'\n",
    "  f'fraction_susceptible: {fraction_susceptible.numpy():.3f}')"
   ]
  },
  {
   "cell_type": "markdown",
   "id": "public-registrar",
   "metadata": {},
   "source": [
    "#### Using boundary loss and smoothed PGD"
   ]
  },
  {
   "cell_type": "code",
   "execution_count": 7,
   "id": "vietnamese-swedish",
   "metadata": {},
   "outputs": [],
   "source": [
    "def boundary_loss(y_true, y_pred):\n",
    "  values, indices = tf.math.top_k(y_pred, 2)\n",
    "\n",
    "  return -(values[:,0] - values[:,1])**2"
   ]
  },
  {
   "cell_type": "code",
   "execution_count": 8,
   "id": "ordinary-combat",
   "metadata": {},
   "outputs": [
    {
     "name": "stdout",
     "output_type": "stream",
     "text": [
      "attacking underlying model at a radius of 2 * epsilon...\n",
      "10/10 [==============================] - 23s 2s/step - success_rate: 0.2900\n",
      "20/20 [==============================] - 497s 25s/step - vra: 0.5900 - dos_success: 0.4300\n",
      "vra_under_dos: 0.510\n",
      "fraction_susceptible: 0.136\n"
     ]
    }
   ],
   "source": [
    "attack = RsDosAttack(0.141, aggregate_before_grad=True, project_back=False, loss=boundary_loss)\n",
    "\n",
    "vra_under_dos, fraction_susceptible = attack.eval(g, test)\n",
    "\n",
    "print(\n",
    "  f'vra_under_dos: {vra_under_dos.numpy():.3f}\\n'\n",
    "  f'fraction_susceptible: {fraction_susceptible.numpy():.3f}')"
   ]
  },
  {
   "cell_type": "markdown",
   "id": "graduate-craft",
   "metadata": {},
   "source": [
    "#### CIFAR-10 $\\epsilon = 0.25$"
   ]
  },
  {
   "cell_type": "code",
   "execution_count": 9,
   "id": "close-front",
   "metadata": {},
   "outputs": [
    {
     "name": "stdout",
     "output_type": "stream",
     "text": [
      "attacking underlying model at a radius of 2 * epsilon...\n",
      "10/10 [==============================] - 22s 2s/step - success_rate: 0.5900\n",
      "20/20 [==============================] - 495s 25s/step - vra: 0.5100 - dos_success: 0.4400\n",
      "vra_under_dos: 0.380\n",
      "fraction_susceptible: 0.255\n"
     ]
    }
   ],
   "source": [
    "attack = RsDosAttack(0.25, aggregate_before_grad=True)\n",
    "\n",
    "vra_under_dos, fraction_susceptible = attack.eval(g, test)\n",
    "\n",
    "print(\n",
    "  f'vra_under_dos: {vra_under_dos.numpy():.3f}\\n'\n",
    "  f'fraction_susceptible: {fraction_susceptible.numpy():.3f}')"
   ]
  },
  {
   "cell_type": "code",
   "execution_count": null,
   "id": "european-spine",
   "metadata": {},
   "outputs": [],
   "source": []
  }
 ],
 "metadata": {
  "kernelspec": {
   "display_name": "Python 3",
   "language": "python",
   "name": "python3"
  },
  "language_info": {
   "codemirror_mode": {
    "name": "ipython",
    "version": 3
   },
   "file_extension": ".py",
   "mimetype": "text/x-python",
   "name": "python",
   "nbconvert_exporter": "python",
   "pygments_lexer": "ipython3",
   "version": "3.7.9"
  }
 },
 "nbformat": 4,
 "nbformat_minor": 5
}
